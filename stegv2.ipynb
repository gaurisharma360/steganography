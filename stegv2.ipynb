{
  "nbformat": 4,
  "nbformat_minor": 0,
  "metadata": {
    "colab": {
      "name": "stegv2.ipynb",
      "provenance": [],
      "authorship_tag": "ABX9TyMT42JJCU6q6Pt7Ggc1Fq6r",
      "include_colab_link": true
    },
    "kernelspec": {
      "name": "python3",
      "display_name": "Python 3"
    },
    "language_info": {
      "name": "python"
    }
  },
  "cells": [
    {
      "cell_type": "markdown",
      "metadata": {
        "id": "view-in-github",
        "colab_type": "text"
      },
      "source": [
        "<a href=\"https://colab.research.google.com/github/gaurisharma360/steganography/blob/main/stegv2.ipynb\" target=\"_parent\"><img src=\"https://colab.research.google.com/assets/colab-badge.svg\" alt=\"Open In Colab\"/></a>"
      ]
    },
    {
      "cell_type": "code",
      "execution_count": 7,
      "metadata": {
        "id": "yOH9WDXE1Cui"
      },
      "outputs": [],
      "source": [
        "\n",
        "\n",
        "import argparse\n",
        "\n",
        "from PIL import Image\n",
        "\n",
        "\n",
        "class Steganography:\n",
        "\n",
        "    BLACK_PIXEL = (0, 0, 0)\n",
        "\n",
        "    def _int_to_bin(self, rgb):\n",
        "        \"\"\"Convert an integer tuple to a binary (string) tuple.\n",
        "        :param rgb: An integer tuple like (220, 110, 96)\n",
        "        :return: A string tuple like (\"00101010\", \"11101011\", \"00010110\")\n",
        "        \"\"\"\n",
        "        r, g, b = rgb\n",
        "        return f'{r:08b}', f'{g:08b}', f'{b:08b}'\n",
        "\n",
        "    def _bin_to_int(self, rgb):\n",
        "        \"\"\"Convert a binary (string) tuple to an integer tuple.\n",
        "        :param rgb: A string tuple like (\"00101010\", \"11101011\", \"00010110\")\n",
        "        :return: Return an int tuple like (220, 110, 96)\n",
        "        \"\"\"\n",
        "        r, g, b = rgb\n",
        "        return int(r, 2), int(g, 2), int(b, 2)\n",
        "\n",
        "    def _merge_rgb(self, rgb1, rgb2):\n",
        "        \"\"\"Merge two RGB tuples.\n",
        "        :param rgb1: An integer tuple like (220, 110, 96)\n",
        "        :param rgb2: An integer tuple like (240, 95, 105)\n",
        "        :return: An integer tuple with the two RGB values merged.\n",
        "        \"\"\"\n",
        "        r1, g1, b1 = self._int_to_bin(rgb1)\n",
        "        r2, g2, b2 = self._int_to_bin(rgb2)\n",
        "        rgb = r1[:4] + r2[:4], g1[:4] + g2[:4], b1[:4] + b2[:4]\n",
        "        return self._bin_to_int(rgb)\n",
        "\n",
        "    def _unmerge_rgb(self, rgb):\n",
        "        \"\"\"Unmerge RGB.\n",
        "        :param rgb: An integer tuple like (220, 110, 96)\n",
        "        :return: An integer tuple with the two RGB values merged.\n",
        "        \"\"\"\n",
        "        r, g, b = self._int_to_bin(rgb)\n",
        "        # Extract the last 4 bits (corresponding to the hidden image)\n",
        "        # Concatenate 4 zero bits because we are working with 8 bit\n",
        "        new_rgb = r[4:] + '0000', g[4:] + '0000', b[4:] + '0000'\n",
        "        return self._bin_to_int(new_rgb)\n",
        "\n",
        "    def merge(self, image1, image2):\n",
        "        \"\"\"Merge image2 into image1.\n",
        "        :param image1: First image\n",
        "        :param image2: Second image\n",
        "        :return: A new merged image.\n",
        "        \"\"\"\n",
        "        # Check the images dimensions\n",
        "        if image2.size[0] > image1.size[0] or image2.size[1] > image1.size[1]:\n",
        "            raise ValueError('Image 2 should be smaller than Image 1!')\n",
        "\n",
        "        # Get the pixel map of the two images\n",
        "        map1 = image1.load()\n",
        "        map2 = image2.load()\n",
        "\n",
        "        new_image = Image.new(image1.mode, image1.size)\n",
        "        new_map = new_image.load()\n",
        "\n",
        "        for i in range(image1.size[0]):\n",
        "            for j in range(image1.size[1]):\n",
        "                is_valid = lambda: i < image2.size[0] and j < image2.size[1]\n",
        "                rgb1 = map1[i ,j]\n",
        "                rgb2 = map2[i, j] if is_valid() else self.BLACK_PIXEL\n",
        "                new_map[i, j] = self._merge_rgb(rgb1, rgb2)\n",
        "\n",
        "        return new_image\n",
        "\n",
        "    def unmerge(self, image):\n",
        "        \"\"\"Unmerge an image.\n",
        "        :param image: The input image.\n",
        "        :return: The unmerged/extracted image.\n",
        "        \"\"\"\n",
        "        pixel_map = image.load()\n",
        "\n",
        "        # Create the new image and load the pixel map\n",
        "        new_image = Image.new(image.mode, image.size)\n",
        "        new_map = new_image.load()\n",
        "\n",
        "        for i in range(image.size[0]):\n",
        "            for j in range(image.size[1]):\n",
        "                new_map[i, j] = self._unmerge_rgb(pixel_map[i, j])\n",
        "\n",
        "        return new_image\n",
        "\n",
        "def main():\n",
        "    parser = argparse.ArgumentParser(description='Steganography')\n",
        "    subparser = parser.add_subparsers(dest='command')\n",
        "\n",
        "    merge = subparser.add_parser('merge')\n",
        "    merge.add_argument('--image1', required=True, help='Image1 path')\n",
        "    merge.add_argument('--image2', required=True, help='Image2 path')\n",
        "    merge.add_argument('--output', required=True, help='Output path')\n",
        "\n",
        "    unmerge = subparser.add_parser('unmerge')\n",
        "    unmerge.add_argument('--image', required=True, help='Image path')\n",
        "    unmerge.add_argument('--output', required=True, help='Output path')\n",
        "\n",
        "    args = parser.parse_args()\n",
        "\n",
        "    if args.command == 'merge':\n",
        "        image1 = Image.open(args.image1)\n",
        "        image2 = Image.open(args.image2)\n",
        "        Steganography().merge(image1, image2).save(args.output)\n",
        "    elif args.command == 'unmerge':\n",
        "        image = Image.open(args.image)\n",
        "        Steganography().unmerge(image).save(args.output)\n",
        "\n"
      ]
    },
    {
      "cell_type": "code",
      "source": [
        "\n",
        "if __name__ == '__main__':\n",
        "    main()"
      ],
      "metadata": {
        "colab": {
          "base_uri": "https://localhost:8080/",
          "height": 203
        },
        "id": "hGANlQns2RlO",
        "outputId": "24d4dfa0-0e06-483d-b7de-ee1e2d698d42"
      },
      "execution_count": 9,
      "outputs": [
        {
          "output_type": "stream",
          "name": "stderr",
          "text": [
            "usage: ipykernel_launcher.py [-h] {merge,unmerge} ...\n",
            "ipykernel_launcher.py: error: argument command: invalid choice: '/root/.local/share/jupyter/runtime/kernel-0a972461-b301-4d52-89c7-433233725603.json' (choose from 'merge', 'unmerge')\n"
          ]
        },
        {
          "output_type": "error",
          "ename": "SystemExit",
          "evalue": "ignored",
          "traceback": [
            "An exception has occurred, use %tb to see the full traceback.\n",
            "\u001b[0;31mSystemExit\u001b[0m\u001b[0;31m:\u001b[0m 2\n"
          ]
        },
        {
          "output_type": "stream",
          "name": "stderr",
          "text": [
            "/usr/local/lib/python3.7/dist-packages/IPython/core/interactiveshell.py:2890: UserWarning: To exit: use 'exit', 'quit', or Ctrl-D.\n",
            "  warn(\"To exit: use 'exit', 'quit', or Ctrl-D.\", stacklevel=1)\n"
          ]
        }
      ]
    }
  ]
}